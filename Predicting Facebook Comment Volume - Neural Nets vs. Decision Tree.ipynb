{
 "cells": [
  {
   "cell_type": "code",
   "execution_count": null,
   "metadata": {
    "collapsed": true
   },
   "outputs": [],
   "source": [
    "# Project Outline & Problem Definition \n",
    "\n",
    "# The purpose of this codelab/notebook is to reproduce, test, and try to improve the findings from the 2015 paper, \n",
    "# '[Facebook] Comment Volume Prediction Using Decision Trees & Neural Networks.' \n",
    "# The goal of the exercise is to build & compare models that predict how many comments a particular FB post or \n",
    "# page will receive over a set period of time, using the provided data sets acquired from the [UC Irvine Machine \n",
    "# Learning Repository](https://archive.ics.uci.edu/ml/datasets/Facebook+Comment+Volume+Dataset)\n",
    "\n",
    "# The predictive modelling techniques used in the original paper were Decision Trees (specifically, REP & M5P Trees) and \n",
    "# Neural Networks (specifically, a Multi-Layer Preceptron, and an RBF Network). The main libraries used were pandas,\n",
    "# numpy, SKlearn, and tensorflow. \n",
    "\n",
    "# The hyperparameters used to tune the model were: \n",
    "    # Decision Trees:\n",
    "        # MaxDepth =\n",
    "        \n",
    "    # Neural Nets: \n",
    "        # Number of hidden layers\n",
    "        # Number of neurons per hidden layer\n",
    "        # Activation functions \n",
    "\n",
    "# The metrics used to evaluate model performance were: Hits@10, AUC@10, MAE & Evaluation Time"
   ]
  },
  {
   "cell_type": "code",
   "execution_count": 1,
   "metadata": {
    "collapsed": true
   },
   "outputs": [],
   "source": [
    "# Import Libraries & Setup Environment\n",
    "import pandas as pd\n",
    "import numpy as np\n",
    "import sklearn as sk\n",
    "import tensorflow as tf\n",
    "\n",
    "# to make this notebook's output stable across runs\n",
    "np.random.seed(123)\n",
    "\n",
    "# To plot pretty figures\n",
    "%matplotlib inline\n",
    "import matplotlib\n",
    "import matplotlib.pyplot as plt\n",
    "plt.rcParams['axes.labelsize'] = 14\n",
    "plt.rcParams['xtick.labelsize'] = 12\n",
    "plt.rcParams['ytick.labelsize'] = 12"
   ]
  },
  {
   "cell_type": "code",
   "execution_count": 2,
   "metadata": {
    "collapsed": true
   },
   "outputs": [],
   "source": [
    "# Import Training Data into Dataframe\n",
    "fb_comment_training_data = pd.read_csv(\"Features_Variant_1.csv\",header=0)"
   ]
  },
  {
   "cell_type": "code",
   "execution_count": 3,
   "metadata": {
    "collapsed": true
   },
   "outputs": [],
   "source": [
    "# Import Test Data into Dataframe\n",
    "fb_comment_test_data = pd.read_csv(\"Features_TestSet.csv\",header=0)\n",
    "y_test = fb_comment_test_data[[\"output\"]].copy()"
   ]
  },
  {
   "cell_type": "code",
   "execution_count": 4,
   "metadata": {},
   "outputs": [
    {
     "name": "stdout",
     "output_type": "stream",
     "text": [
      "<class 'pandas.core.frame.DataFrame'>\n",
      "RangeIndex: 40949 entries, 0 to 40948\n",
      "Data columns (total 53 columns):\n",
      "likes            40949 non-null int64\n",
      "checkins         40949 non-null int64\n",
      "returns          40949 non-null int64\n",
      "category         40949 non-null int64\n",
      "min-cc1          40949 non-null int64\n",
      "max-cc1          40949 non-null int64\n",
      "avg-cc1          40949 non-null float64\n",
      "median-cc1       40949 non-null float64\n",
      "std-dev-cc1      40949 non-null float64\n",
      "min-cc2          40949 non-null int64\n",
      "max-cc2          40949 non-null int64\n",
      "avg-cc2          40949 non-null float64\n",
      "median-cc2       40949 non-null float64\n",
      "std-dev-cc2      40949 non-null float64\n",
      "min-cc3          40949 non-null int64\n",
      "max-cc3          40949 non-null int64\n",
      "avg-cc3          40949 non-null float64\n",
      "median-cc3       40949 non-null float64\n",
      "std-dev-cc3      40949 non-null float64\n",
      "min-cc4          40949 non-null int64\n",
      "max-cc4          40949 non-null int64\n",
      "avg-cc4          40949 non-null float64\n",
      "median-cc4       40949 non-null float64\n",
      "std-dev-cc4      40949 non-null float64\n",
      "min-cc5          40949 non-null int64\n",
      "max-cc5          40949 non-null int64\n",
      "avg-cc5          40949 non-null float64\n",
      "median-cc5       40949 non-null float64\n",
      "std-dev-cc4.1    40949 non-null float64\n",
      "commBase         40949 non-null int64\n",
      "comm24           40949 non-null int64\n",
      "comm48           40949 non-null int64\n",
      "comm24_1         40949 non-null int64\n",
      "diff_24,48       40949 non-null int64\n",
      "baseTime         40949 non-null int64\n",
      "length           40949 non-null int64\n",
      "shares           40949 non-null int64\n",
      "hrs              40949 non-null int64\n",
      "sun_pub          40949 non-null int64\n",
      "mon_pub          40949 non-null int64\n",
      "tue_pub          40949 non-null int64\n",
      "wed_pub          40949 non-null int64\n",
      "thu_pub          40949 non-null int64\n",
      "fri_pub          40949 non-null int64\n",
      "sat_pub          40949 non-null int64\n",
      "sun_base         40949 non-null int64\n",
      "mon_base         40949 non-null int64\n",
      "tue_base         40949 non-null int64\n",
      "wed_base         40949 non-null int64\n",
      "thu_base         40949 non-null int64\n",
      "fri_base         40949 non-null int64\n",
      "sat_base         40949 non-null int64\n",
      "output           40949 non-null int64\n",
      "dtypes: float64(15), int64(38)\n",
      "memory usage: 16.6 MB\n"
     ]
    }
   ],
   "source": [
    "# Take a Look at Test Data\n",
    "fb_comment_training_data.info()"
   ]
  },
  {
   "cell_type": "code",
   "execution_count": 5,
   "metadata": {},
   "outputs": [
    {
     "data": {
      "text/html": [
       "<div>\n",
       "<style>\n",
       "    .dataframe thead tr:only-child th {\n",
       "        text-align: right;\n",
       "    }\n",
       "\n",
       "    .dataframe thead th {\n",
       "        text-align: left;\n",
       "    }\n",
       "\n",
       "    .dataframe tbody tr th {\n",
       "        vertical-align: top;\n",
       "    }\n",
       "</style>\n",
       "<table border=\"1\" class=\"dataframe\">\n",
       "  <thead>\n",
       "    <tr style=\"text-align: right;\">\n",
       "      <th></th>\n",
       "      <th>likes</th>\n",
       "      <th>checkins</th>\n",
       "      <th>returns</th>\n",
       "      <th>category</th>\n",
       "      <th>min-cc1</th>\n",
       "      <th>max-cc1</th>\n",
       "      <th>avg-cc1</th>\n",
       "      <th>median-cc1</th>\n",
       "      <th>std-dev-cc1</th>\n",
       "      <th>min-cc2</th>\n",
       "      <th>...</th>\n",
       "      <th>fri_pub</th>\n",
       "      <th>sat_pub</th>\n",
       "      <th>sun_base</th>\n",
       "      <th>mon_base</th>\n",
       "      <th>tue_base</th>\n",
       "      <th>wed_base</th>\n",
       "      <th>thu_base</th>\n",
       "      <th>fri_base</th>\n",
       "      <th>sat_base</th>\n",
       "      <th>output</th>\n",
       "    </tr>\n",
       "  </thead>\n",
       "  <tbody>\n",
       "    <tr>\n",
       "      <th>0</th>\n",
       "      <td>634995</td>\n",
       "      <td>0</td>\n",
       "      <td>463</td>\n",
       "      <td>1</td>\n",
       "      <td>1</td>\n",
       "      <td>17</td>\n",
       "      <td>7.0</td>\n",
       "      <td>2.0</td>\n",
       "      <td>6.663333</td>\n",
       "      <td>1</td>\n",
       "      <td>...</td>\n",
       "      <td>0</td>\n",
       "      <td>0</td>\n",
       "      <td>0</td>\n",
       "      <td>0</td>\n",
       "      <td>0</td>\n",
       "      <td>0</td>\n",
       "      <td>1</td>\n",
       "      <td>0</td>\n",
       "      <td>0</td>\n",
       "      <td>1</td>\n",
       "    </tr>\n",
       "    <tr>\n",
       "      <th>1</th>\n",
       "      <td>634995</td>\n",
       "      <td>0</td>\n",
       "      <td>463</td>\n",
       "      <td>1</td>\n",
       "      <td>1</td>\n",
       "      <td>17</td>\n",
       "      <td>7.0</td>\n",
       "      <td>2.0</td>\n",
       "      <td>6.663333</td>\n",
       "      <td>1</td>\n",
       "      <td>...</td>\n",
       "      <td>0</td>\n",
       "      <td>0</td>\n",
       "      <td>0</td>\n",
       "      <td>0</td>\n",
       "      <td>0</td>\n",
       "      <td>0</td>\n",
       "      <td>0</td>\n",
       "      <td>1</td>\n",
       "      <td>0</td>\n",
       "      <td>0</td>\n",
       "    </tr>\n",
       "    <tr>\n",
       "      <th>2</th>\n",
       "      <td>634995</td>\n",
       "      <td>0</td>\n",
       "      <td>463</td>\n",
       "      <td>1</td>\n",
       "      <td>1</td>\n",
       "      <td>17</td>\n",
       "      <td>7.0</td>\n",
       "      <td>2.0</td>\n",
       "      <td>6.663333</td>\n",
       "      <td>1</td>\n",
       "      <td>...</td>\n",
       "      <td>1</td>\n",
       "      <td>0</td>\n",
       "      <td>0</td>\n",
       "      <td>0</td>\n",
       "      <td>0</td>\n",
       "      <td>0</td>\n",
       "      <td>0</td>\n",
       "      <td>1</td>\n",
       "      <td>0</td>\n",
       "      <td>0</td>\n",
       "    </tr>\n",
       "    <tr>\n",
       "      <th>3</th>\n",
       "      <td>634995</td>\n",
       "      <td>0</td>\n",
       "      <td>463</td>\n",
       "      <td>1</td>\n",
       "      <td>1</td>\n",
       "      <td>17</td>\n",
       "      <td>7.0</td>\n",
       "      <td>2.0</td>\n",
       "      <td>6.663333</td>\n",
       "      <td>1</td>\n",
       "      <td>...</td>\n",
       "      <td>0</td>\n",
       "      <td>1</td>\n",
       "      <td>1</td>\n",
       "      <td>0</td>\n",
       "      <td>0</td>\n",
       "      <td>0</td>\n",
       "      <td>0</td>\n",
       "      <td>0</td>\n",
       "      <td>0</td>\n",
       "      <td>0</td>\n",
       "    </tr>\n",
       "    <tr>\n",
       "      <th>4</th>\n",
       "      <td>634995</td>\n",
       "      <td>0</td>\n",
       "      <td>463</td>\n",
       "      <td>1</td>\n",
       "      <td>1</td>\n",
       "      <td>17</td>\n",
       "      <td>7.0</td>\n",
       "      <td>2.0</td>\n",
       "      <td>6.663333</td>\n",
       "      <td>1</td>\n",
       "      <td>...</td>\n",
       "      <td>0</td>\n",
       "      <td>0</td>\n",
       "      <td>0</td>\n",
       "      <td>1</td>\n",
       "      <td>0</td>\n",
       "      <td>0</td>\n",
       "      <td>0</td>\n",
       "      <td>0</td>\n",
       "      <td>0</td>\n",
       "      <td>1</td>\n",
       "    </tr>\n",
       "  </tbody>\n",
       "</table>\n",
       "<p>5 rows × 53 columns</p>\n",
       "</div>"
      ],
      "text/plain": [
       "    likes  checkins  returns  category  min-cc1  max-cc1  avg-cc1  median-cc1  \\\n",
       "0  634995         0      463         1        1       17      7.0         2.0   \n",
       "1  634995         0      463         1        1       17      7.0         2.0   \n",
       "2  634995         0      463         1        1       17      7.0         2.0   \n",
       "3  634995         0      463         1        1       17      7.0         2.0   \n",
       "4  634995         0      463         1        1       17      7.0         2.0   \n",
       "\n",
       "   std-dev-cc1  min-cc2   ...    fri_pub  sat_pub  sun_base  mon_base  \\\n",
       "0     6.663333        1   ...          0        0         0         0   \n",
       "1     6.663333        1   ...          0        0         0         0   \n",
       "2     6.663333        1   ...          1        0         0         0   \n",
       "3     6.663333        1   ...          0        1         1         0   \n",
       "4     6.663333        1   ...          0        0         0         1   \n",
       "\n",
       "   tue_base  wed_base  thu_base  fri_base  sat_base  output  \n",
       "0         0         0         1         0         0       1  \n",
       "1         0         0         0         1         0       0  \n",
       "2         0         0         0         1         0       0  \n",
       "3         0         0         0         0         0       0  \n",
       "4         0         0         0         0         0       1  \n",
       "\n",
       "[5 rows x 53 columns]"
      ]
     },
     "execution_count": 5,
     "metadata": {},
     "output_type": "execute_result"
    }
   ],
   "source": [
    "# Take a Look at Imported Test Data \n",
    "fb_comment_test_data.head()"
   ]
  },
  {
   "cell_type": "code",
   "execution_count": 6,
   "metadata": {
    "collapsed": true
   },
   "outputs": [],
   "source": [
    "X_train, X_test, y_train, y_test = fb_comment_training_data[:40949], fb_comment_training_data[40949:], fb_comment_training_data[:40949], fb_comment_training_data[40949:]"
   ]
  },
  {
   "cell_type": "code",
   "execution_count": 7,
   "metadata": {},
   "outputs": [
    {
     "name": "stdout",
     "output_type": "stream",
     "text": [
      "(40949, 53)\n",
      "(0, 53)\n",
      "(40949, 53)\n",
      "(0, 53)\n"
     ]
    }
   ],
   "source": [
    "print(X_train.shape)\n",
    "print(X_test.shape)\n",
    "print(y_train.shape)\n",
    "print(y_test.shape)"
   ]
  },
  {
   "cell_type": "code",
   "execution_count": 8,
   "metadata": {
    "collapsed": true
   },
   "outputs": [],
   "source": [
    "# Remove labels prior to transformations & scaling\n",
    "from sklearn.model_selection import train_test_split\n",
    "X_train_prepped = X_train.drop(\"output\", axis=1)\n",
    "y_train_prepped = X_train[\"output\"].copy()"
   ]
  },
  {
   "cell_type": "code",
   "execution_count": 9,
   "metadata": {},
   "outputs": [
    {
     "name": "stdout",
     "output_type": "stream",
     "text": [
      "(40949, 52)\n",
      "(40949,)\n"
     ]
    }
   ],
   "source": [
    "print(X_train_prepped.shape)\n",
    "print(y_train_prepped.shape)"
   ]
  },
  {
   "cell_type": "code",
   "execution_count": 10,
   "metadata": {},
   "outputs": [
    {
     "name": "stdout",
     "output_type": "stream",
     "text": [
      "[[-0.10003712 -0.22707468 -0.39967795 ..., -0.42147708 -0.40996237\n",
      "   2.42938358]\n",
      " [-0.10003712 -0.22707468 -0.39967795 ..., -0.42147708  2.43924827\n",
      "  -0.41162705]\n",
      " [-0.10003712 -0.22707468 -0.39967795 ..., -0.42147708 -0.40996237\n",
      "   2.42938358]\n",
      " ..., \n",
      " [ 0.86303905 -0.22367546  4.07635256 ...,  2.37260824 -0.40996237\n",
      "  -0.41162705]\n",
      " [ 0.86303905 -0.22367546  4.07635256 ..., -0.42147708  2.43924827\n",
      "  -0.41162705]\n",
      " [ 0.86303905 -0.22367546  4.07635256 ..., -0.42147708  2.43924827\n",
      "  -0.41162705]]\n"
     ]
    }
   ],
   "source": [
    "from sklearn.pipeline import Pipeline\n",
    "from sklearn.preprocessing import StandardScaler\n",
    "from sklearn.preprocessing import Imputer \n",
    "\n",
    "num_pipeline = Pipeline([('imputer', Imputer(strategy=\"median\")), ('std_scaler', StandardScaler()),])\n",
    "X_train_prepped_transformed = num_pipeline.fit_transform(X_train_prepped)\n",
    "print(X_train_prepped_transformed)"
   ]
  },
  {
   "cell_type": "code",
   "execution_count": null,
   "metadata": {
    "collapsed": true
   },
   "outputs": [],
   "source": [
    "from sklearn.tree import DecisionTreeRegressor\n",
    "Decision_Tree = DecisionTreeRegressor(criterion='mae',max_depth=2)\n",
    "Decision_Tree.fit(X_train_prepped_transformed,y_train)"
   ]
  },
  {
   "cell_type": "code",
   "execution_count": null,
   "metadata": {
    "collapsed": true
   },
   "outputs": [],
   "source": [
    "predictions = Decision_Tree.predict(y_train)"
   ]
  }
 ],
 "metadata": {
  "kernelspec": {
   "display_name": "Python 3",
   "language": "python",
   "name": "python3"
  },
  "language_info": {
   "codemirror_mode": {
    "name": "ipython",
    "version": 3
   },
   "file_extension": ".py",
   "mimetype": "text/x-python",
   "name": "python",
   "nbconvert_exporter": "python",
   "pygments_lexer": "ipython3",
   "version": "3.6.2"
  }
 },
 "nbformat": 4,
 "nbformat_minor": 2
}
